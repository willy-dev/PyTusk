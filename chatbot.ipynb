{
  "nbformat": 4,
  "nbformat_minor": 0,
  "metadata": {
    "colab": {
      "name": "chatbot.ipynb",
      "provenance": [],
      "authorship_tag": "ABX9TyPUs55CD+3jVygkls5F2ubC",
      "include_colab_link": true
    },
    "kernelspec": {
      "name": "python3",
      "display_name": "Python 3"
    },
    "language_info": {
      "name": "python"
    }
  },
  "cells": [
    {
      "cell_type": "markdown",
      "metadata": {
        "id": "view-in-github",
        "colab_type": "text"
      },
      "source": [
        "<a href=\"https://colab.research.google.com/github/willy-dev/PyTusk/blob/main/chatbot.ipynb\" target=\"_parent\"><img src=\"https://colab.research.google.com/assets/colab-badge.svg\" alt=\"Open In Colab\"/></a>"
      ]
    },
    {
      "cell_type": "code",
      "metadata": {
        "colab": {
          "resources": {
            "http://localhost:8080/nbextensions/google.colab/files.js": {
              "data": "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",
              "ok": true,
              "headers": [
                [
                  "content-type",
                  "application/javascript"
                ]
              ],
              "status": 200,
              "status_text": ""
            }
          },
          "base_uri": "https://localhost:8080/",
          "height": 110
        },
        "id": "gt84sghtzPlv",
        "outputId": "4b426e8e-409c-44d7-ea66-581e60547ac5"
      },
      "source": [
        "from google.colab import files\n",
        "\n",
        "files.upload()"
      ],
      "execution_count": 1,
      "outputs": [
        {
          "output_type": "display_data",
          "data": {
            "text/html": [
              "\n",
              "     <input type=\"file\" id=\"files-95444d41-beee-4e8c-9166-430619a6857b\" name=\"files[]\" multiple disabled\n",
              "        style=\"border:none\" />\n",
              "     <output id=\"result-95444d41-beee-4e8c-9166-430619a6857b\">\n",
              "      Upload widget is only available when the cell has been executed in the\n",
              "      current browser session. Please rerun this cell to enable.\n",
              "      </output>\n",
              "      <script src=\"/nbextensions/google.colab/files.js\"></script> "
            ],
            "text/plain": [
              "<IPython.core.display.HTML object>"
            ]
          },
          "metadata": {}
        },
        {
          "output_type": "stream",
          "name": "stdout",
          "text": [
            "Saving frequently_asked_questions.csv to frequently_asked_questions.csv\n"
          ]
        },
        {
          "output_type": "execute_result",
          "data": {
            "text/plain": [
              "{'frequently_asked_questions.csv': b'Question,Answer\\r\\nHow will I access this course?,\"We provide our courses online via our training site (https://training.mammothinteractive.com), where you can make a free account. If you support this Kickstarter, we will send you an exclusive link to enroll in the masterclass for free.\"\\r\\nIs there a limited timeframe during which I have to complete this masterclass?,Our courses have no expiration date or add-on fees. You get full lifetime access to this masterclass for a single fee.\\r\\nWhen will Mammoth Interactive release this masterclass?,\"We expect to release this masterclass by May. Our team is dedicated and working hard to get this course \\xef\\xac\\x81nished on time. Having said that, there might be delays in the project due to unforeseen circumstances. The probability of a delay is low.\"\\r\\n\"Will the masterclass be live, or can it be revisited?\",The masterclass is not live. It can be revisited.\\r\\nWhat if my company wants to enroll in this masterclass?,\"For multiple copies, pledge at the multiple copy levels. This will give you licensing for up to 1,000 copies of this course. Otherwise, each masterclass is for one student.\"\\r\\nWhat is the refund policy for the Licensing levels?,\"We cannot offer refunds for the multiple copy levels. Please be extra sure to purchase this option with care. This is because we share a portion of the pledge with Kickstarter, and the difference at these pledge levels is significant. Thank you for understanding, and we\\'re excited to welcome your organization to Mammoth Interactive.\"\\r\\nMore questions?,Ask away in the Comments tab of this Kickstarter page.\\r\\nHi,Hello. Please ask me a question.\\r\\nHow are you?,\"Great, thank you. I am here to answer your questions.\"'}"
            ]
          },
          "metadata": {},
          "execution_count": 1
        }
      ]
    },
    {
      "cell_type": "code",
      "metadata": {
        "colab": {
          "base_uri": "https://localhost:8080/"
        },
        "id": "m3S4P-EM0Ywd",
        "outputId": "bdc6e54d-9f42-4561-e69b-185f4b44bc90"
      },
      "source": [
        "import pandas\n",
        "\n",
        "dataframe = pandas.read_csv(\"frequently_asked_questions.csv\")\n",
        "\n",
        "print(dataframe)"
      ],
      "execution_count": 2,
      "outputs": [
        {
          "output_type": "stream",
          "name": "stdout",
          "text": [
            "                                            Question                                             Answer\n",
            "0                     How will I access this course?  We provide our courses online via our training...\n",
            "1  Is there a limited timeframe during which I ha...  Our courses have no expiration date or add-on ...\n",
            "2  When will Mammoth Interactive release this mas...  We expect to release this masterclass by May. ...\n",
            "3  Will the masterclass be live, or can it be rev...  The masterclass is not live. It can be revisited.\n",
            "4  What if my company wants to enroll in this mas...  For multiple copies, pledge at the multiple co...\n",
            "5  What is the refund policy for the Licensing le...  We cannot offer refunds for the multiple copy ...\n",
            "6                                    More questions?  Ask away in the Comments tab of this Kickstart...\n",
            "7                                                 Hi                   Hello. Please ask me a question.\n",
            "8                                       How are you?  Great, thank you. I am here to answer your que...\n"
          ]
        }
      ]
    },
    {
      "cell_type": "code",
      "metadata": {
        "id": "on_GTuSS2HmU"
      },
      "source": [
        "dataframe.dropna(inplace=True)"
      ],
      "execution_count": null,
      "outputs": []
    },
    {
      "cell_type": "code",
      "metadata": {
        "colab": {
          "base_uri": "https://localhost:8080/"
        },
        "id": "6gY2z3s42Ow_",
        "outputId": "cfb8837e-70df-4139-c28d-95bf486a68ff"
      },
      "source": [
        "from sklearn.feature_extraction.text import TfidfVectorizer\n",
        "\n",
        "vectorizer = TfidfVectorizer()\n",
        "\n",
        "import numpy\n",
        "\n",
        "vectorizer.fit(numpy.concatenate((dataframe.Question, dataframe.Answer)))\n",
        "\n",
        "vectorized_questions = vectorizer.transform(dataframe.Question)\n",
        "vectorized_answers = vectorizer.transform(dataframe.Answer)\n",
        "\n",
        "print(vectorized_questions, vectorized_answers)"
      ],
      "execution_count": 4,
      "outputs": [
        {
          "output_type": "stream",
          "name": "stdout",
          "text": [
            "  (0, 140)\t0.39455631788779855\n",
            "  (0, 124)\t0.28346002617667865\n",
            "  (0, 55)\t0.5216005890175354\n",
            "  (0, 25)\t0.468872452430146\n",
            "  (0, 1)\t0.5216005890175354\n",
            "  (1, 139)\t0.36083989855367143\n",
            "  (1, 127)\t0.19391205298095607\n",
            "  (1, 126)\t0.36083989855367143\n",
            "  (1, 124)\t0.17164090727072107\n",
            "  (1, 122)\t0.3158399423702519\n",
            "  (1, 73)\t0.1822187691613287\n",
            "  (1, 66)\t0.36083989855367143\n",
            "  (1, 60)\t0.2218038198303122\n",
            "  (1, 50)\t0.3158399423702519\n",
            "  (1, 33)\t0.36083989855367143\n",
            "  (1, 22)\t0.36083989855367143\n",
            "  (2, 140)\t0.3223795390253817\n",
            "  (2, 137)\t0.4869047837510037\n",
            "  (2, 124)\t0.23160625854417785\n",
            "  (2, 106)\t0.4261834111364021\n",
            "  (2, 73)\t0.24587965673833073\n",
            "  (2, 71)\t0.4261834111364021\n",
            "  (2, 59)\t0.4261834111364021\n",
            "  (3, 140)\t0.2552417482010873\n",
            "  (3, 121)\t0.20716602557248626\n",
            "  :\t:\n",
            "  (3, 12)\t0.5537189828514927\n",
            "  (4, 136)\t0.3411140483342429\n",
            "  (4, 133)\t0.3897149856108689\n",
            "  (4, 127)\t0.20942926001296108\n",
            "  (4, 124)\t0.18537593535349076\n",
            "  (4, 79)\t0.3897149856108689\n",
            "  (4, 73)\t0.19680025763884562\n",
            "  (4, 58)\t0.2798841086835015\n",
            "  (4, 57)\t0.3411140483342429\n",
            "  (4, 35)\t0.3411140483342429\n",
            "  (4, 21)\t0.3897149856108689\n",
            "  (5, 136)\t0.35373715248877335\n",
            "  (5, 121)\t0.4343585991053944\n",
            "  (5, 104)\t0.4041365929236437\n",
            "  (5, 95)\t0.4041365929236437\n",
            "  (5, 64)\t0.35373715248877335\n",
            "  (5, 63)\t0.3179781804224378\n",
            "  (5, 60)\t0.24841776201291985\n",
            "  (5, 43)\t0.2675787399875675\n",
            "  (6, 102)\t0.6586286478914134\n",
            "  (6, 77)\t0.7524681416357296\n",
            "  (7, 54)\t1.0\n",
            "  (8, 143)\t0.4198020705470952\n",
            "  (8, 55)\t0.5977816877542651\n",
            "  (8, 8)\t0.6829518836272686   (0, 143)\t0.3017745263665933\n",
            "  (0, 140)\t0.10835034080120563\n",
            "  (0, 138)\t0.16364654970551637\n",
            "  (0, 134)\t0.2575170524961675\n",
            "  (0, 132)\t0.16364654970551637\n",
            "  (0, 128)\t0.32729309941103274\n",
            "  (0, 127)\t0.08794215535432752\n",
            "  (0, 124)\t0.07784184170254693\n",
            "  (0, 121)\t0.08794215535432752\n",
            "  (0, 115)\t0.16364654970551637\n",
            "  (0, 113)\t0.16364654970551637\n",
            "  (0, 109)\t0.16364654970551637\n",
            "  (0, 99)\t0.16364654970551637\n",
            "  (0, 91)\t0.2575170524961675\n",
            "  (0, 86)\t0.16364654970551637\n",
            "  (0, 73)\t0.0826390678646143\n",
            "  (0, 72)\t0.16364654970551637\n",
            "  (0, 70)\t0.16364654970551637\n",
            "  (0, 67)\t0.16364654970551637\n",
            "  (0, 62)\t0.12875852624808376\n",
            "  (0, 58)\t0.11752709132204688\n",
            "  (0, 57)\t0.14323836425863823\n",
            "  (0, 56)\t0.16364654970551637\n",
            "  (0, 44)\t0.32729309941103274\n",
            "  (0, 43)\t0.10835034080120563\n",
            "  :\t:\n",
            "  (5, 6)\t0.23668920389952947\n",
            "  (6, 124)\t0.18066872231821005\n",
            "  (6, 121)\t0.20411126584709302\n",
            "  (6, 117)\t0.37981903306010456\n",
            "  (6, 92)\t0.37981903306010456\n",
            "  (6, 82)\t0.272777069022444\n",
            "  (6, 62)\t0.29884491317290957\n",
            "  (6, 58)\t0.272777069022444\n",
            "  (6, 20)\t0.37981903306010456\n",
            "  (6, 11)\t0.37981903306010456\n",
            "  (6, 9)\t0.3324522093971963\n",
            "  (7, 101)\t0.4697233659342213\n",
            "  (7, 93)\t0.4111446694816053\n",
            "  (7, 75)\t0.4697233659342213\n",
            "  (7, 52)\t0.4697233659342213\n",
            "  (7, 9)\t0.4111446694816053\n",
            "  (8, 144)\t0.33165832654408345\n",
            "  (8, 143)\t0.232912541567559\n",
            "  (8, 127)\t0.20362385613976405\n",
            "  (8, 119)\t0.33165832654408345\n",
            "  (8, 102)\t0.33165832654408345\n",
            "  (8, 53)\t0.3789120400875536\n",
            "  (8, 48)\t0.3789120400875536\n",
            "  (8, 7)\t0.3789120400875536\n",
            "  (8, 4)\t0.3789120400875536\n"
          ]
        }
      ]
    },
    {
      "cell_type": "code",
      "metadata": {
        "colab": {
          "base_uri": "https://localhost:8080/"
        },
        "id": "p2rte3Cz-d-p",
        "outputId": "1d846e22-79d5-4a5d-de72-c4c762a02c5f"
      },
      "source": [
        "from sklearn.metrics.pairwise import cosine_similarity\n",
        "\n",
        "while True:\n",
        "\n",
        "  user_input = input()\n",
        "\n",
        "  print(user_input)\n",
        "\n",
        "  vectorized_user_input = vectorizer.transform([user_input])\n",
        "\n",
        "  similarities = cosine_similarity(vectorized_user_input, vectorized_questions)\n",
        "   \n",
        "  closest_question = numpy.argmax(similarities, axis=1)\n",
        "\n",
        "  print(\"Similarities:\", similarities)\n",
        "\n",
        "  print(\"Closest Question:\", closest_question)\n",
        "\n",
        "  answer = dataframe.Answer.iloc[closest_question].values[0]\n",
        "\n",
        "  print(\"Answer:\", answer)\n",
        "\n",
        "\n"
      ],
      "execution_count": null,
      "outputs": [
        {
          "output_type": "stream",
          "name": "stdout",
          "text": [
            "enroll\n",
            "enroll\n",
            "Similarities: [[0.         0.         0.         0.         0.34111405 0.\n",
            "  0.         0.         0.        ]]\n",
            "Closest Question: [4]\n",
            "Answer: For multiple copies, pledge at the multiple copy levels. This will give you licensing for up to 1,000 copies of this course. Otherwise, each masterclass is for one student.\n",
            "hi\n",
            "hi\n",
            "Similarities: [[0. 0. 0. 0. 0. 0. 0. 1. 0.]]\n",
            "Closest Question: [7]\n",
            "Answer: Hello. Please ask me a question.\n"
          ]
        }
      ]
    }
  ]
}